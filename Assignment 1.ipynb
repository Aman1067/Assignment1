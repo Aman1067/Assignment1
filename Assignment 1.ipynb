{
 "cells": [
  {
   "cell_type": "markdown",
   "id": "75a231f7",
   "metadata": {},
   "source": [
    "1. In the below elements which of them are values or an expression? eg:- values can be\n",
    "integer or string and expressions will be mathematical operators.\n",
    "*\n",
    "'hello'\n",
    "-87.8\n",
    "-\n",
    "/\n",
    "+\n",
    "6\n",
    "\n",
    "Solution:-\n",
    "values are ('hello', -87.8, 6)\n",
    "expressions are (*,-,/,+)\n"
   ]
  },
  {
   "cell_type": "markdown",
   "id": "0afbf1ed",
   "metadata": {},
   "source": [
    "2. What is the difference between string and variable?\n",
    "\n",
    "String is a data type which represents text whereas variables are those empty boxes to which we assign some value or different data types."
   ]
  },
  {
   "cell_type": "markdown",
   "id": "9a016daa",
   "metadata": {},
   "source": [
    "3. Describe three different data types.\n",
    "\n",
    "Numeric type:- int(9),float(9.6),complex(9+6j)\n",
    "Text type:- str('god')\n",
    "Boolean type:- bool(True/False)"
   ]
  },
  {
   "cell_type": "markdown",
   "id": "80bb8ebb",
   "metadata": {},
   "source": [
    "4. What is an expression made up of? What do all expressions do?\n",
    "\n",
    "An expression is a combination of values, variables, operators, and calls to functions. Expressions can be used in a wide variety of contexts, such as in variable assignments, as arguments in function calls, and as part of control flow statements.\n",
    "e.g- x=9,y=6 and x>y where > expression evaluates to False."
   ]
  },
  {
   "cell_type": "markdown",
   "id": "317e0638",
   "metadata": {},
   "source": [
    "5. This assignment statements, like spam = 10. What is the difference between an expression and a statement?\n",
    "\n",
    "A statement is a command that tells the program to perform a certain action, such as assigning a value to a variable or controlling the flow of execution, while an expression is a piece of code that evaluates to a value."
   ]
  },
  {
   "cell_type": "markdown",
   "id": "cd760b4c",
   "metadata": {},
   "source": [
    "6. After running the following code, what does the variable bacon contain?\n",
    "bacon = 22\n",
    "bacon + 1"
   ]
  },
  {
   "cell_type": "code",
   "execution_count": 1,
   "id": "1995aa4f",
   "metadata": {},
   "outputs": [
    {
     "data": {
      "text/plain": [
       "23"
      ]
     },
     "execution_count": 1,
     "metadata": {},
     "output_type": "execute_result"
    }
   ],
   "source": [
    "bacon = 22\n",
    "bacon + 1"
   ]
  },
  {
   "cell_type": "markdown",
   "id": "bc0047df",
   "metadata": {},
   "source": [
    "7. What should the values of the following two terms be?\n",
    "'spam' + 'spamspam'\n",
    "'spam' * 3"
   ]
  },
  {
   "cell_type": "code",
   "execution_count": 2,
   "id": "71cb241e",
   "metadata": {},
   "outputs": [
    {
     "data": {
      "text/plain": [
       "'spamspamspam'"
      ]
     },
     "execution_count": 2,
     "metadata": {},
     "output_type": "execute_result"
    }
   ],
   "source": [
    "'spam' + 'spamspam'"
   ]
  },
  {
   "cell_type": "code",
   "execution_count": 3,
   "id": "4d16a64c",
   "metadata": {},
   "outputs": [
    {
     "data": {
      "text/plain": [
       "'spamspamspam'"
      ]
     },
     "execution_count": 3,
     "metadata": {},
     "output_type": "execute_result"
    }
   ],
   "source": [
    "'spam' * 3"
   ]
  },
  {
   "cell_type": "markdown",
   "id": "6ec2e80b",
   "metadata": {},
   "source": [
    "8. Why is eggs a valid variable name while 100 is invalid?\n",
    "\n",
    "Variable names can only start with a letter or an underscore, and can be followed by any combination of letters, digits, and underscores. This is why 'eggs' is a valid variable name, but 100 is not.So when we try to assign value to 100, the interpreter assumes that you are trying to use the numeric literal 100 in an assignment statement rather than a variable named 100.\n"
   ]
  },
  {
   "cell_type": "code",
   "execution_count": 9,
   "id": "3daed5cf",
   "metadata": {},
   "outputs": [
    {
     "data": {
      "text/plain": [
       "(1234, 5674)"
      ]
     },
     "execution_count": 9,
     "metadata": {},
     "output_type": "execute_result"
    }
   ],
   "source": [
    "eggs=1234,5674\n",
    "eggs"
   ]
  },
  {
   "cell_type": "code",
   "execution_count": 6,
   "id": "3bb37746",
   "metadata": {},
   "outputs": [
    {
     "ename": "SyntaxError",
     "evalue": "cannot assign to literal (Temp/ipykernel_9112/2571050713.py, line 1)",
     "output_type": "error",
     "traceback": [
      "\u001b[1;36m  File \u001b[1;32m\"C:\\Users\\Anshuman\\AppData\\Local\\Temp/ipykernel_9112/2571050713.py\"\u001b[1;36m, line \u001b[1;32m1\u001b[0m\n\u001b[1;33m    100='stre','frt'\u001b[0m\n\u001b[1;37m    ^\u001b[0m\n\u001b[1;31mSyntaxError\u001b[0m\u001b[1;31m:\u001b[0m cannot assign to literal\n"
     ]
    }
   ],
   "source": [
    "100='stre','frt'"
   ]
  },
  {
   "cell_type": "markdown",
   "id": "507a6c7e",
   "metadata": {},
   "source": [
    "9. What three functions can be used to get the integer, floating-point number, or string version of a value?\n",
    "\n",
    "Following functions can be used to get integer, float or string version of a value:-\n",
    "\n",
    "int()- This function can be used to convert a value to an integer.\n",
    "float()- This function can be used to convert a value to a floating-point number.\n",
    "str()- This function can be used to convert a value to a string.\n",
    "\n",
    "Examples are:-\n",
    "\n",
    "\n"
   ]
  },
  {
   "cell_type": "code",
   "execution_count": 16,
   "id": "b8e5f086",
   "metadata": {},
   "outputs": [
    {
     "name": "stdout",
     "output_type": "stream",
     "text": [
      "3\n"
     ]
    }
   ],
   "source": [
    "x=3.14\n",
    "print(int(x))"
   ]
  },
  {
   "cell_type": "code",
   "execution_count": 11,
   "id": "1696cdb3",
   "metadata": {},
   "outputs": [
    {
     "name": "stdout",
     "output_type": "stream",
     "text": [
      "9.0\n"
     ]
    }
   ],
   "source": [
    "x=9\n",
    "print(float(x))"
   ]
  },
  {
   "cell_type": "code",
   "execution_count": 12,
   "id": "37c4eadd",
   "metadata": {},
   "outputs": [
    {
     "name": "stdout",
     "output_type": "stream",
     "text": [
      "6\n"
     ]
    }
   ],
   "source": [
    "x=6\n",
    "print(str(6))"
   ]
  },
  {
   "cell_type": "markdown",
   "id": "11b0d4dc",
   "metadata": {},
   "source": [
    "10. Why does this expression cause an error? How can you fix it?\n",
    "'I have eaten' + 99 + 'burritos'.\n",
    "\n",
    "Error is due to that we are trying to concatenate string with integer. So to fix this convert the ineger to string."
   ]
  },
  {
   "cell_type": "code",
   "execution_count": 22,
   "id": "78bdd0af",
   "metadata": {},
   "outputs": [
    {
     "data": {
      "text/plain": [
       "'I have eaten 99 burritos'"
      ]
     },
     "execution_count": 22,
     "metadata": {},
     "output_type": "execute_result"
    }
   ],
   "source": [
    "'I have eaten ' + '99' + ' burritos'"
   ]
  },
  {
   "cell_type": "code",
   "execution_count": 23,
   "id": "b0f3f9e2",
   "metadata": {},
   "outputs": [
    {
     "data": {
      "text/plain": [
       "'I have eaten 99 burritos'"
      ]
     },
     "execution_count": 23,
     "metadata": {},
     "output_type": "execute_result"
    }
   ],
   "source": [
    "'I have eaten ' + str(99) + ' burritos'"
   ]
  },
  {
   "cell_type": "code",
   "execution_count": null,
   "id": "c553a0c6",
   "metadata": {},
   "outputs": [],
   "source": []
  }
 ],
 "metadata": {
  "kernelspec": {
   "display_name": "Python 3 (ipykernel)",
   "language": "python",
   "name": "python3"
  },
  "language_info": {
   "codemirror_mode": {
    "name": "ipython",
    "version": 3
   },
   "file_extension": ".py",
   "mimetype": "text/x-python",
   "name": "python",
   "nbconvert_exporter": "python",
   "pygments_lexer": "ipython3",
   "version": "3.9.7"
  }
 },
 "nbformat": 4,
 "nbformat_minor": 5
}
